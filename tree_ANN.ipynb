{
  "nbformat": 4,
  "nbformat_minor": 0,
  "metadata": {
    "colab": {
      "provenance": [],
      "authorship_tag": "ABX9TyPTf1g+DTCcEd/PxzLN9oZt",
      "include_colab_link": true
    },
    "kernelspec": {
      "name": "python3",
      "display_name": "Python 3"
    },
    "language_info": {
      "name": "python"
    }
  },
  "cells": [
    {
      "cell_type": "markdown",
      "metadata": {
        "id": "view-in-github",
        "colab_type": "text"
      },
      "source": [
        "<a href=\"https://colab.research.google.com/github/Janamawasy/ML---TreeANN/blob/main/tree_ANN.ipynb\" target=\"_parent\"><img src=\"https://colab.research.google.com/assets/colab-badge.svg\" alt=\"Open In Colab\"/></a>"
      ]
    },
    {
      "cell_type": "code",
      "execution_count": 1,
      "metadata": {
        "colab": {
          "base_uri": "https://localhost:8080/",
          "height": 36
        },
        "id": "WU5ShIN1K2NN",
        "outputId": "14decbc0-ac95-4e44-ab9a-a2feaecceb24"
      },
      "outputs": [
        {
          "output_type": "execute_result",
          "data": {
            "text/plain": [
              "'2.15.0'"
            ],
            "application/vnd.google.colaboratory.intrinsic+json": {
              "type": "string"
            }
          },
          "metadata": {},
          "execution_count": 1
        }
      ],
      "source": [
        "#importing the dataset\n",
        "import numpy as np\n",
        "import pandas as pd\n",
        "import tensorflow as tf\n",
        "from datetime import datetime\n",
        "tf.__version__\n",
        "\n"
      ]
    },
    {
      "cell_type": "code",
      "source": [
        "# import data\n",
        "dataset = pd.read_csv('Tree_Data.csv')\n",
        "\n",
        "# data processing :: drop Adult column\n",
        "dataset = dataset.drop(dataset.columns[8], axis=1)\n",
        "\n"
      ],
      "metadata": {
        "id": "xNQptBIlLK_6"
      },
      "execution_count": 69,
      "outputs": []
    },
    {
      "cell_type": "code",
      "source": [
        "# Date to Eppoch\n",
        "# # Convert the given date string to a datetime object\n",
        "# given_datetime = datetime.strptime('1/31/17', '%m/%d/%y')\n",
        "\n",
        "# # Convert the datetime object to epoch timestamp (seconds)\n",
        "# epoch_timestamp_seconds = int(given_datetime.timestamp())\n",
        "\n",
        "dataset['PlantDate'] = dataset['PlantDate'].apply(lambda x: int(datetime.strptime(x, '%m/%d/%y').timestamp()))\n",
        "\n",
        "dataset = dataset.dropna(subset=['Event'])\n",
        "\n",
        "\n",
        "x = dataset.iloc[:, 1:-3]\n",
        "y = dataset.iloc[:, -3:]\n",
        "\n"
      ],
      "metadata": {
        "id": "qFO3P2JGLVnR"
      },
      "execution_count": 96,
      "outputs": []
    },
    {
      "cell_type": "code",
      "source": [
        "# Label Encoding for the following columns\n",
        "y_le_features= ['Harvest','Alive']\n",
        "\n",
        "# Encoding categorial data 'Alive' : Dead = 0 Alive = 1\n",
        "from sklearn.preprocessing import LabelEncoder, OneHotEncoder\n",
        "le = LabelEncoder()\n",
        "\n",
        "y['Harvest'] = le.fit_transform(y['Harvest'])\n",
        "y['Alive'] = le.fit_transform(y['Alive'])\n",
        "\n",
        "y['Harvest'] = [bit ^ 1 for bit in y['Harvest']]\n",
        "y['Alive'] = [bit ^ 1 for bit in y['Alive']]\n",
        "\n",
        "\n",
        "# Fill NaN vals in'EMF'\n",
        "column_mean = x['EMF'].mean()\n",
        "x['EMF'] = x['EMF'].fillna(column_mean)"
      ],
      "metadata": {
        "id": "PfxV05tFWZMR"
      },
      "execution_count": 97,
      "outputs": []
    },
    {
      "cell_type": "code",
      "source": [
        "# # Label Encoding for Light_Cat  - it appears that One Hot Encoding is better option for Light_Cat\n",
        "\n",
        "# # make sure that the values 0 - low , 1 - mid , 2- high\n",
        "\n",
        "# # Option 1 : Encoding categorial data 'Light_Cat' : 3 Possible Labels -> [0,1,2]\n",
        "# # x['Light_Cat'] = le.fit_transform(x['Light_Cat'])\n",
        "\n",
        "# # Option 2 : Manual Label Encoding :\n",
        "# # Define a mapping for categories\n",
        "# category_mapping = {'High': 2, 'Med': 1, 'Low': 0}\n",
        "\n",
        "# # Use the map function to replace categories with numerical values\n",
        "# x['Light_Cat'] = x['Light_Cat'].map(category_mapping)\n",
        "\n"
      ],
      "metadata": {
        "id": "OkF1D7S6RPhg"
      },
      "execution_count": 80,
      "outputs": []
    },
    {
      "cell_type": "code",
      "source": [
        "from sklearn.preprocessing import LabelEncoder, OneHotEncoder\n",
        "from sklearn.compose import ColumnTransformer\n",
        "\n",
        "# One Hot Encoding for the follwing columns\n",
        "ohe_features = ['Subplot','Species','Soil','Sterile','Conspecific','Myco','SoilMyco','Light_Cat']\n",
        "\n",
        "ct = ColumnTransformer(transformers=[('encoder', OneHotEncoder(), ohe_features)], remainder='passthrough')\n",
        "x = np.array(ct.fit_transform(x))\n"
      ],
      "metadata": {
        "id": "YK2A_wZbOk6j"
      },
      "execution_count": 98,
      "outputs": []
    },
    {
      "cell_type": "code",
      "source": [
        "nan_count = np.isnan(x).sum()\n",
        "\n",
        "print(\"Number of NaN values:\", nan_count)"
      ],
      "metadata": {
        "colab": {
          "base_uri": "https://localhost:8080/"
        },
        "id": "SE6su9xFPJsj",
        "outputId": "09d7b850-bd09-46ad-b88e-506591b9fd85"
      },
      "execution_count": 99,
      "outputs": [
        {
          "output_type": "stream",
          "name": "stdout",
          "text": [
            "Number of NaN values: 0\n"
          ]
        }
      ]
    },
    {
      "cell_type": "code",
      "source": [
        "nan_count = np.isnan(y).sum()\n",
        "\n",
        "print(\"Number of NaN values:\", nan_count)"
      ],
      "metadata": {
        "colab": {
          "base_uri": "https://localhost:8080/"
        },
        "id": "wdAYdiyGNF5Q",
        "outputId": "9c6329d0-50db-4463-b337-1d26ba8164b8"
      },
      "execution_count": 100,
      "outputs": [
        {
          "output_type": "stream",
          "name": "stdout",
          "text": [
            "Number of NaN values: Event      0\n",
            "Harvest    0\n",
            "Alive      0\n",
            "dtype: int64\n"
          ]
        }
      ]
    },
    {
      "cell_type": "code",
      "source": [
        "from sklearn.model_selection import train_test_split\n",
        "\n",
        "x = np.array(x)\n",
        "y = np.array(y)\n",
        "\n",
        "x_train, x_test, y_train, y_test = train_test_split(x, y, test_size=0.2, random_state=0)\n",
        "\n",
        "from sklearn.preprocessing import StandardScaler\n",
        "sc = StandardScaler()\n",
        "x_train = sc.fit_transform(x_train)\n",
        "x_test = sc.fit_transform(x_test)\n",
        "\n",
        "#Training\n",
        "\n",
        "#Init the ANN\n",
        "ann = tf.keras.models.Sequential()\n",
        "\n",
        "ann.add(tf.keras.layers.Dense(units=6, activation='relu'))\n",
        "ann.add(tf.keras.layers.Dense(units=6, activation='relu'))\n",
        "ann.add(tf.keras.layers.Dense(units=6, activation='relu'))\n",
        "ann.add(tf.keras.layers.Dense(units=3, activation='sigmoid'))\n",
        "\n",
        "ann.compile(optimizer='adam', loss='binary_crossentropy', metrics= ['accuracy'])\n",
        "\n",
        "# Actual training\n",
        "ann.fit(x_train, y_train, batch_size=32, epochs=100)\n",
        "\n",
        "\n",
        "y_pred = ann.predict(x_test)\n"
      ],
      "metadata": {
        "colab": {
          "base_uri": "https://localhost:8080/"
        },
        "id": "uoAE9Wa4Lfl_",
        "outputId": "30f397a8-81fc-47bf-ad5b-54b49e722105"
      },
      "execution_count": 107,
      "outputs": [
        {
          "output_type": "stream",
          "name": "stdout",
          "text": [
            "Epoch 1/100\n",
            "70/70 [==============================] - 2s 2ms/step - loss: 0.6501 - accuracy: 0.5375\n",
            "Epoch 2/100\n",
            "70/70 [==============================] - 0s 2ms/step - loss: 0.5602 - accuracy: 0.5744\n",
            "Epoch 3/100\n",
            "70/70 [==============================] - 0s 2ms/step - loss: 0.5009 - accuracy: 0.5744\n",
            "Epoch 4/100\n",
            "70/70 [==============================] - 0s 2ms/step - loss: 0.4772 - accuracy: 0.5753\n",
            "Epoch 5/100\n",
            "70/70 [==============================] - 0s 2ms/step - loss: 0.4625 - accuracy: 0.5910\n",
            "Epoch 6/100\n",
            "70/70 [==============================] - 2s 24ms/step - loss: 0.4476 - accuracy: 0.6715\n",
            "Epoch 7/100\n",
            "70/70 [==============================] - 0s 3ms/step - loss: 0.4277 - accuracy: 0.7366\n",
            "Epoch 8/100\n",
            "70/70 [==============================] - 0s 2ms/step - loss: 0.4035 - accuracy: 0.7870\n",
            "Epoch 9/100\n",
            "70/70 [==============================] - 0s 2ms/step - loss: 0.3812 - accuracy: 0.8117\n",
            "Epoch 10/100\n",
            "70/70 [==============================] - 0s 2ms/step - loss: 0.3637 - accuracy: 0.8162\n",
            "Epoch 11/100\n",
            "70/70 [==============================] - 0s 2ms/step - loss: 0.3485 - accuracy: 0.8252\n",
            "Epoch 12/100\n",
            "70/70 [==============================] - 1s 15ms/step - loss: 0.3328 - accuracy: 0.8387\n",
            "Epoch 13/100\n",
            "70/70 [==============================] - 0s 2ms/step - loss: 0.3145 - accuracy: 0.8553\n",
            "Epoch 14/100\n",
            "70/70 [==============================] - 0s 3ms/step - loss: 0.2915 - accuracy: 0.8778\n",
            "Epoch 15/100\n",
            "70/70 [==============================] - 0s 3ms/step - loss: 0.2642 - accuracy: 0.8939\n",
            "Epoch 16/100\n",
            "70/70 [==============================] - 0s 2ms/step - loss: 0.2412 - accuracy: 0.9070\n",
            "Epoch 17/100\n",
            "70/70 [==============================] - 2s 29ms/step - loss: 0.2221 - accuracy: 0.9178\n",
            "Epoch 18/100\n",
            "70/70 [==============================] - 1s 19ms/step - loss: 0.2095 - accuracy: 0.9222\n",
            "Epoch 19/100\n",
            "70/70 [==============================] - 0s 4ms/step - loss: 0.2010 - accuracy: 0.9240\n",
            "Epoch 20/100\n",
            "70/70 [==============================] - 0s 3ms/step - loss: 0.1924 - accuracy: 0.9245\n",
            "Epoch 21/100\n",
            "70/70 [==============================] - 2s 32ms/step - loss: 0.1863 - accuracy: 0.9263\n",
            "Epoch 22/100\n",
            "70/70 [==============================] - 3s 40ms/step - loss: 0.1796 - accuracy: 0.9312\n",
            "Epoch 23/100\n",
            "70/70 [==============================] - 0s 4ms/step - loss: 0.1742 - accuracy: 0.9335\n",
            "Epoch 24/100\n",
            "70/70 [==============================] - 3s 37ms/step - loss: 0.1701 - accuracy: 0.9326\n",
            "Epoch 25/100\n",
            "70/70 [==============================] - 2s 29ms/step - loss: 0.1665 - accuracy: 0.9344\n",
            "Epoch 26/100\n",
            "70/70 [==============================] - 0s 7ms/step - loss: 0.1625 - accuracy: 0.9326\n",
            "Epoch 27/100\n",
            "70/70 [==============================] - 1s 3ms/step - loss: 0.1582 - accuracy: 0.9357\n",
            "Epoch 28/100\n",
            "70/70 [==============================] - 0s 4ms/step - loss: 0.1550 - accuracy: 0.9384\n",
            "Epoch 29/100\n",
            "70/70 [==============================] - 0s 5ms/step - loss: 0.1526 - accuracy: 0.9375\n",
            "Epoch 30/100\n",
            "70/70 [==============================] - 0s 3ms/step - loss: 0.1483 - accuracy: 0.9384\n",
            "Epoch 31/100\n",
            "70/70 [==============================] - 0s 3ms/step - loss: 0.1453 - accuracy: 0.9407\n",
            "Epoch 32/100\n",
            "70/70 [==============================] - 1s 10ms/step - loss: 0.1430 - accuracy: 0.9393\n",
            "Epoch 33/100\n",
            "70/70 [==============================] - 0s 4ms/step - loss: 0.1403 - accuracy: 0.9389\n",
            "Epoch 34/100\n",
            "70/70 [==============================] - 0s 2ms/step - loss: 0.1386 - accuracy: 0.9384\n",
            "Epoch 35/100\n",
            "70/70 [==============================] - 0s 2ms/step - loss: 0.1372 - accuracy: 0.9371\n",
            "Epoch 36/100\n",
            "70/70 [==============================] - 1s 21ms/step - loss: 0.1338 - accuracy: 0.9416\n",
            "Epoch 37/100\n",
            "70/70 [==============================] - 0s 6ms/step - loss: 0.1326 - accuracy: 0.9420\n",
            "Epoch 38/100\n",
            "70/70 [==============================] - 0s 4ms/step - loss: 0.1304 - accuracy: 0.9438\n",
            "Epoch 39/100\n",
            "70/70 [==============================] - 1s 21ms/step - loss: 0.1288 - accuracy: 0.9389\n",
            "Epoch 40/100\n",
            "70/70 [==============================] - 0s 2ms/step - loss: 0.1265 - accuracy: 0.9429\n",
            "Epoch 41/100\n",
            "70/70 [==============================] - 0s 2ms/step - loss: 0.1249 - accuracy: 0.9447\n",
            "Epoch 42/100\n",
            "70/70 [==============================] - 0s 2ms/step - loss: 0.1233 - accuracy: 0.9407\n",
            "Epoch 43/100\n",
            "70/70 [==============================] - 0s 2ms/step - loss: 0.1218 - accuracy: 0.9402\n",
            "Epoch 44/100\n",
            "70/70 [==============================] - 1s 15ms/step - loss: 0.1214 - accuracy: 0.9456\n",
            "Epoch 45/100\n",
            "70/70 [==============================] - 0s 2ms/step - loss: 0.1197 - accuracy: 0.9420\n",
            "Epoch 46/100\n",
            "70/70 [==============================] - 0s 2ms/step - loss: 0.1173 - accuracy: 0.9447\n",
            "Epoch 47/100\n",
            "70/70 [==============================] - 0s 2ms/step - loss: 0.1168 - accuracy: 0.9456\n",
            "Epoch 48/100\n",
            "70/70 [==============================] - 0s 2ms/step - loss: 0.1150 - accuracy: 0.9429\n",
            "Epoch 49/100\n",
            "70/70 [==============================] - 0s 2ms/step - loss: 0.1136 - accuracy: 0.9434\n",
            "Epoch 50/100\n",
            "70/70 [==============================] - 1s 14ms/step - loss: 0.1130 - accuracy: 0.9429\n",
            "Epoch 51/100\n",
            "70/70 [==============================] - 1s 13ms/step - loss: 0.1114 - accuracy: 0.9443\n",
            "Epoch 52/100\n",
            "70/70 [==============================] - 1s 20ms/step - loss: 0.1099 - accuracy: 0.9443\n",
            "Epoch 53/100\n",
            "70/70 [==============================] - 0s 6ms/step - loss: 0.1087 - accuracy: 0.9470\n",
            "Epoch 54/100\n",
            "70/70 [==============================] - 2s 23ms/step - loss: 0.1072 - accuracy: 0.9434\n",
            "Epoch 55/100\n",
            "70/70 [==============================] - 0s 5ms/step - loss: 0.1058 - accuracy: 0.9474\n",
            "Epoch 56/100\n",
            "70/70 [==============================] - 0s 5ms/step - loss: 0.1046 - accuracy: 0.9438\n",
            "Epoch 57/100\n",
            "70/70 [==============================] - 0s 4ms/step - loss: 0.1036 - accuracy: 0.9483\n",
            "Epoch 58/100\n",
            "70/70 [==============================] - 0s 5ms/step - loss: 0.1030 - accuracy: 0.9438\n",
            "Epoch 59/100\n",
            "70/70 [==============================] - 0s 4ms/step - loss: 0.1020 - accuracy: 0.9456\n",
            "Epoch 60/100\n",
            "70/70 [==============================] - 0s 3ms/step - loss: 0.1010 - accuracy: 0.9483\n",
            "Epoch 61/100\n",
            "70/70 [==============================] - 0s 5ms/step - loss: 0.1002 - accuracy: 0.9470\n",
            "Epoch 62/100\n",
            "70/70 [==============================] - 1s 18ms/step - loss: 0.1000 - accuracy: 0.9474\n",
            "Epoch 63/100\n",
            "70/70 [==============================] - 3s 43ms/step - loss: 0.0985 - accuracy: 0.9474\n",
            "Epoch 64/100\n",
            "70/70 [==============================] - 1s 8ms/step - loss: 0.0976 - accuracy: 0.9515\n",
            "Epoch 65/100\n",
            "70/70 [==============================] - 1s 12ms/step - loss: 0.0977 - accuracy: 0.9470\n",
            "Epoch 66/100\n",
            "70/70 [==============================] - 0s 4ms/step - loss: 0.0969 - accuracy: 0.9492\n",
            "Epoch 67/100\n",
            "70/70 [==============================] - 0s 3ms/step - loss: 0.0958 - accuracy: 0.9479\n",
            "Epoch 68/100\n",
            "70/70 [==============================] - 2s 24ms/step - loss: 0.0952 - accuracy: 0.9488\n",
            "Epoch 69/100\n",
            "70/70 [==============================] - 0s 7ms/step - loss: 0.0945 - accuracy: 0.9474\n",
            "Epoch 70/100\n",
            "70/70 [==============================] - 2s 23ms/step - loss: 0.0926 - accuracy: 0.9510\n",
            "Epoch 71/100\n",
            "70/70 [==============================] - 0s 3ms/step - loss: 0.0920 - accuracy: 0.9510\n",
            "Epoch 72/100\n",
            "70/70 [==============================] - 0s 2ms/step - loss: 0.0926 - accuracy: 0.9501\n",
            "Epoch 73/100\n",
            "70/70 [==============================] - 1s 16ms/step - loss: 0.0922 - accuracy: 0.9483\n",
            "Epoch 74/100\n",
            "70/70 [==============================] - 0s 4ms/step - loss: 0.0925 - accuracy: 0.9492\n",
            "Epoch 75/100\n",
            "70/70 [==============================] - 0s 5ms/step - loss: 0.0899 - accuracy: 0.9515\n",
            "Epoch 76/100\n",
            "70/70 [==============================] - 1s 19ms/step - loss: 0.0889 - accuracy: 0.9510\n",
            "Epoch 77/100\n",
            "70/70 [==============================] - 0s 4ms/step - loss: 0.0891 - accuracy: 0.9519\n",
            "Epoch 78/100\n",
            "70/70 [==============================] - 0s 3ms/step - loss: 0.0873 - accuracy: 0.9506\n",
            "Epoch 79/100\n",
            "70/70 [==============================] - 0s 7ms/step - loss: 0.0873 - accuracy: 0.9497\n",
            "Epoch 80/100\n",
            "70/70 [==============================] - 0s 2ms/step - loss: 0.0872 - accuracy: 0.9542\n",
            "Epoch 81/100\n",
            "70/70 [==============================] - 0s 2ms/step - loss: 0.0863 - accuracy: 0.9524\n",
            "Epoch 82/100\n",
            "70/70 [==============================] - 0s 2ms/step - loss: 0.0850 - accuracy: 0.9515\n",
            "Epoch 83/100\n",
            "70/70 [==============================] - 0s 2ms/step - loss: 0.0856 - accuracy: 0.9537\n",
            "Epoch 84/100\n",
            "70/70 [==============================] - 0s 2ms/step - loss: 0.0846 - accuracy: 0.9510\n",
            "Epoch 85/100\n",
            "70/70 [==============================] - 2s 29ms/step - loss: 0.0835 - accuracy: 0.9506\n",
            "Epoch 86/100\n",
            "70/70 [==============================] - 0s 4ms/step - loss: 0.0840 - accuracy: 0.9528\n",
            "Epoch 87/100\n",
            "70/70 [==============================] - 0s 3ms/step - loss: 0.0822 - accuracy: 0.9533\n",
            "Epoch 88/100\n",
            "70/70 [==============================] - 1s 8ms/step - loss: 0.0826 - accuracy: 0.9501\n",
            "Epoch 89/100\n",
            "70/70 [==============================] - 0s 3ms/step - loss: 0.0819 - accuracy: 0.9564\n",
            "Epoch 90/100\n",
            "70/70 [==============================] - 0s 3ms/step - loss: 0.0816 - accuracy: 0.9542\n",
            "Epoch 91/100\n",
            "70/70 [==============================] - 0s 3ms/step - loss: 0.0823 - accuracy: 0.9528\n",
            "Epoch 92/100\n",
            "70/70 [==============================] - 0s 2ms/step - loss: 0.0820 - accuracy: 0.9524\n",
            "Epoch 93/100\n",
            "70/70 [==============================] - 1s 19ms/step - loss: 0.0801 - accuracy: 0.9533\n",
            "Epoch 94/100\n",
            "70/70 [==============================] - 0s 3ms/step - loss: 0.0797 - accuracy: 0.9555\n",
            "Epoch 95/100\n",
            "70/70 [==============================] - 0s 3ms/step - loss: 0.0799 - accuracy: 0.9560\n",
            "Epoch 96/100\n",
            "70/70 [==============================] - 0s 3ms/step - loss: 0.0805 - accuracy: 0.9546\n",
            "Epoch 97/100\n",
            "70/70 [==============================] - 2s 29ms/step - loss: 0.0801 - accuracy: 0.9578\n",
            "Epoch 98/100\n",
            "70/70 [==============================] - 1s 17ms/step - loss: 0.0780 - accuracy: 0.9542\n",
            "Epoch 99/100\n",
            "70/70 [==============================] - 0s 4ms/step - loss: 0.0784 - accuracy: 0.9564\n",
            "Epoch 100/100\n",
            "70/70 [==============================] - 0s 5ms/step - loss: 0.0775 - accuracy: 0.9600\n",
            "18/18 [==============================] - 1s 63ms/step\n"
          ]
        }
      ]
    },
    {
      "cell_type": "code",
      "source": [
        "from sklearn.metrics import multilabel_confusion_matrix,accuracy_score\n",
        "\n",
        "y_binary_pred = np.where(y_pred > 0.5, 1, 0)\n",
        "\n",
        "cm = multilabel_confusion_matrix(y_test,y_binary_pred)\n",
        "acc = accuracy_score(y_test,y_binary_pred)\n"
      ],
      "metadata": {
        "id": "Wck3pDV5YY8u"
      },
      "execution_count": 105,
      "outputs": []
    },
    {
      "cell_type": "code",
      "source": [
        "print(cm)\n",
        "print('acc is:', acc)"
      ],
      "metadata": {
        "colab": {
          "base_uri": "https://localhost:8080/"
        },
        "id": "ZRuaS9ITL9vu",
        "outputId": "248cb833-8953-4b2b-fd98-0dd2c1bd4ceb"
      },
      "execution_count": 106,
      "outputs": [
        {
          "output_type": "stream",
          "name": "stdout",
          "text": [
            "[[[361  13]\n",
            "  [ 34 427]]\n",
            "\n",
            " [[594  32]\n",
            "  [ 13 196]]\n",
            "\n",
            " [[670   0]\n",
            "  [  1 164]]]\n",
            "acc is: 0.9425149700598803\n"
          ]
        }
      ]
    }
  ]
}