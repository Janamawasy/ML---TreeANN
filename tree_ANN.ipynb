{
  "nbformat": 4,
  "nbformat_minor": 0,
  "metadata": {
    "colab": {
      "provenance": [],
      "authorship_tag": "ABX9TyP/aqMdukKUIO2y3L0rvmnX",
      "include_colab_link": true
    },
    "kernelspec": {
      "name": "python3",
      "display_name": "Python 3"
    },
    "language_info": {
      "name": "python"
    }
  },
  "cells": [
    {
      "cell_type": "markdown",
      "metadata": {
        "id": "view-in-github",
        "colab_type": "text"
      },
      "source": [
        "<a href=\"https://colab.research.google.com/github/Janamawasy/ML---TreeANN/blob/main/tree_ANN.ipynb\" target=\"_parent\"><img src=\"https://colab.research.google.com/assets/colab-badge.svg\" alt=\"Open In Colab\"/></a>"
      ]
    },
    {
      "cell_type": "code",
      "execution_count": 3,
      "metadata": {
        "colab": {
          "base_uri": "https://localhost:8080/",
          "height": 36
        },
        "id": "WU5ShIN1K2NN",
        "outputId": "ce2daedd-9701-4998-9548-7dab9f0dd07f"
      },
      "outputs": [
        {
          "output_type": "execute_result",
          "data": {
            "text/plain": [
              "'2.15.0'"
            ],
            "application/vnd.google.colaboratory.intrinsic+json": {
              "type": "string"
            }
          },
          "metadata": {},
          "execution_count": 3
        }
      ],
      "source": [
        "#importing the dataset\n",
        "import numpy as np\n",
        "import pandas as pd\n",
        "import tensorflow as tf\n",
        "from datetime import datetime\n",
        "tf.__version__\n",
        "\n"
      ]
    },
    {
      "cell_type": "code",
      "source": [
        "# import data\n",
        "dataset = pd.read_csv('Tree_Data.csv')\n",
        "\n",
        "# -------------------- DATA PREPROCESSING --------------------------------\n",
        "\n",
        "# data processing :: drop Adult column\n",
        "dataset = dataset.drop(dataset.columns[8], axis=1)\n",
        "\n",
        "dataset['PlantDate'] = dataset['PlantDate'].apply(lambda x: int(datetime.strptime(x, '%m/%d/%y').timestamp()))\n",
        "dataset = dataset.dropna(subset=['Event'])\n",
        "\n",
        "\n",
        "df = dataset.iloc[:, 1:-3]\n",
        "# y is Event\n",
        "y = dataset.iloc[:, -3]\n",
        "# y is Alive\n",
        "# y = dataset.iloc[:, -1]\n",
        "# category_mapping = {'X': 1, np.nan: 0}\n",
        "# y = y.map(category_mapping)\n",
        "\n",
        "\n",
        "# Fill NaN vals in'EMF'\n",
        "column_mean = df['EMF'].mean()\n",
        "df['EMF'] = df['EMF'].fillna(column_mean)\n",
        "\n",
        "\n",
        "nan_count_x = df.isna().sum()\n",
        "nan_count_y = np.isnan(y).sum()\n",
        "# print(nan_count_x, nan_count_y)"
      ],
      "metadata": {
        "id": "hCvQWI15mpQo"
      },
      "execution_count": 4,
      "outputs": []
    },
    {
      "cell_type": "code",
      "source": [
        "# -------------- ENCODING NON NUMERIC DATA ------------------------------------\n",
        "from sklearn.preprocessing import LabelEncoder, OneHotEncoder\n",
        "from sklearn.compose import ColumnTransformer\n",
        "\n",
        "# LABEL ENCODING\n",
        "# features that have only 2 categories, or have order logic => Label Encoder\n",
        "label_enc_fea = ['Sterile','Myco','Light_Cat']\n",
        "# Define a mapping for categories\n",
        "category_mapping = {'High': 2, 'Med': 1, 'Low': 0}\n",
        "\n",
        "# Use the map function to replace categories with numerical values\n",
        "df['Light_Cat'] = df['Light_Cat'].map(category_mapping)\n",
        "\n",
        "le = LabelEncoder()\n",
        "df['Sterile'] = le.fit_transform(df['Sterile'])\n",
        "df['Myco'] = le.fit_transform(df['Myco'])\n",
        "\n",
        "# ONE HOT ENCODING\n",
        "OH_enc_feat = ['Subplot','Species','Soil','Conspecific','SoilMyco']\n",
        "\n",
        "ct = ColumnTransformer(transformers=[('encoder', OneHotEncoder(), OH_enc_feat)], remainder='passthrough')\n",
        "df = ct.fit_transform(df)\n"
      ],
      "metadata": {
        "id": "eEIDU9yCp9Gy"
      },
      "execution_count": 7,
      "outputs": []
    },
    {
      "cell_type": "code",
      "source": [
        "# -------------------- CORR +  DELETING CORRELATED FEATURES\n",
        "\n",
        "# Set the correlation threshold\n",
        "correlation_threshold = 0.7\n",
        "\n",
        "# Calculate the correlation matrix\n",
        "correlation_matrix = pd.DataFrame(df).corr()\n",
        "\n",
        "# Find features with correlation above the threshold\n",
        "highly_correlated_features = set()\n",
        "for i in range(len(correlation_matrix.columns)):\n",
        "    for j in range(i):\n",
        "        if abs(correlation_matrix.iloc[i, j]) >= correlation_threshold:\n",
        "            colname = correlation_matrix.columns[i]\n",
        "            highly_correlated_features.add(colname)\n",
        "\n",
        "print(np.array(highly_correlated_features))\n",
        "\n",
        "indices_to_drop = [pd.DataFrame(df).columns.get_loc(col) for col in highly_correlated_features]\n",
        "filtered_data = np.delete(df, indices_to_drop, axis=1)\n",
        "correlation_matrix = pd.DataFrame(filtered_data).corr()\n",
        "print((abs(correlation_matrix) >= 0.7).sum().sum()-len(correlation_matrix) == 0)\n",
        "\n"
      ],
      "metadata": {
        "colab": {
          "base_uri": "https://localhost:8080/"
        },
        "id": "7jricd-QpUwW",
        "outputId": "223e5131-6f47-4a29-8f0d-377202997360"
      },
      "execution_count": 10,
      "outputs": [
        {
          "output_type": "stream",
          "name": "stdout",
          "text": [
            "{32, 33, 35, 18, 20, 21, 24, 26, 31}\n",
            "True\n"
          ]
        }
      ]
    },
    {
      "cell_type": "code",
      "source": [
        "# ------------ CORR BETWEEN X AND Y\n",
        "# correlation_with_y = df.corrwith(np.array(y))\n",
        "\n",
        "x_transposed = np.transpose(filtered_data)\n",
        "\n",
        "# Compute the correlation between each feature and y\n",
        "correlation_with_y = np.corrcoef(x_transposed, y)[0:-1, -1]\n",
        "print(correlation_with_y)\n"
      ],
      "metadata": {
        "colab": {
          "base_uri": "https://localhost:8080/"
        },
        "id": "DMwNZdAWSK1P",
        "outputId": "556b426d-aa7c-4e4e-e3e7-890c54487e32"
      },
      "execution_count": 193,
      "outputs": [
        {
          "output_type": "stream",
          "name": "stdout",
          "text": [
            "[ 0.00712179 -0.00445703 -0.00449648 -0.00302205  0.01037145 -0.27938572\n",
            " -0.23848294  0.30706699  0.23777162  0.02658269 -0.01365947 -0.00273528\n",
            "  0.01619982 -0.03631977  0.0081799   0.00136805 -0.04125583  0.03033442\n",
            "  0.02036334 -0.01436951  0.04354648  0.06603677  0.461038   -0.27244639\n",
            " -0.08373511  0.02273629  0.89574222]\n"
          ]
        }
      ]
    },
    {
      "cell_type": "code",
      "source": [
        "# ------------------------------ANN MODEL------------------------------------\n",
        "from sklearn.model_selection import train_test_split\n",
        "\n",
        "x = np.array(filtered_data)\n",
        "y = np.array(y)\n",
        "\n",
        "x_train, x_test, y_train, y_test = train_test_split(x, y, test_size=0.2, random_state=0)\n",
        "\n",
        "# scaling data - normilizing\n",
        "from sklearn.preprocessing import StandardScaler\n",
        "sc = StandardScaler()\n",
        "x_train = sc.fit_transform(x_train)\n",
        "x_test = sc.fit_transform(x_test)\n",
        "\n",
        "#Training\n",
        "\n",
        "#Init the ANN\n",
        "ann = tf.keras.models.Sequential()\n",
        "\n",
        "ann.add(tf.keras.layers.Dense(units=6, activation='relu'))\n",
        "ann.add(tf.keras.layers.Dense(units=6, activation='relu'))\n",
        "ann.add(tf.keras.layers.Dense(units=6, activation='relu'))\n",
        "ann.add(tf.keras.layers.Dense(units=1, activation='sigmoid'))\n",
        "\n",
        "ann.compile(optimizer='adam', loss='binary_crossentropy', metrics= ['accuracy'])\n",
        "\n",
        "# Actual training\n",
        "ann.fit(x_train, y_train, batch_size=32, epochs=100)\n",
        "\n",
        "y_pred = ann.predict(x_test)\n"
      ],
      "metadata": {
        "colab": {
          "base_uri": "https://localhost:8080/"
        },
        "id": "uoAE9Wa4Lfl_",
        "outputId": "71fdff9a-4d11-4961-947d-3db5262c4a98"
      },
      "execution_count": 11,
      "outputs": [
        {
          "output_type": "stream",
          "name": "stdout",
          "text": [
            "Epoch 1/100\n",
            "70/70 [==============================] - 2s 3ms/step - loss: 0.6743 - accuracy: 0.5335\n",
            "Epoch 2/100\n",
            "70/70 [==============================] - 0s 1ms/step - loss: 0.6275 - accuracy: 0.5762\n",
            "Epoch 3/100\n",
            "70/70 [==============================] - 0s 2ms/step - loss: 0.5909 - accuracy: 0.6894\n",
            "Epoch 4/100\n",
            "70/70 [==============================] - 0s 2ms/step - loss: 0.5602 - accuracy: 0.7276\n",
            "Epoch 5/100\n",
            "70/70 [==============================] - 0s 2ms/step - loss: 0.5276 - accuracy: 0.7771\n",
            "Epoch 6/100\n",
            "70/70 [==============================] - 0s 2ms/step - loss: 0.4997 - accuracy: 0.7951\n",
            "Epoch 7/100\n",
            "70/70 [==============================] - 0s 1ms/step - loss: 0.4812 - accuracy: 0.8018\n",
            "Epoch 8/100\n",
            "70/70 [==============================] - 0s 1ms/step - loss: 0.4679 - accuracy: 0.8045\n",
            "Epoch 9/100\n",
            "70/70 [==============================] - 0s 1ms/step - loss: 0.4580 - accuracy: 0.8076\n",
            "Epoch 10/100\n",
            "70/70 [==============================] - 0s 1ms/step - loss: 0.4498 - accuracy: 0.8094\n",
            "Epoch 11/100\n",
            "70/70 [==============================] - 0s 1ms/step - loss: 0.4432 - accuracy: 0.8112\n",
            "Epoch 12/100\n",
            "70/70 [==============================] - 0s 1ms/step - loss: 0.4367 - accuracy: 0.8103\n",
            "Epoch 13/100\n",
            "70/70 [==============================] - 0s 1ms/step - loss: 0.4308 - accuracy: 0.8135\n",
            "Epoch 14/100\n",
            "70/70 [==============================] - 0s 1ms/step - loss: 0.4242 - accuracy: 0.8139\n",
            "Epoch 15/100\n",
            "70/70 [==============================] - 0s 4ms/step - loss: 0.4172 - accuracy: 0.8166\n",
            "Epoch 16/100\n",
            "70/70 [==============================] - 0s 1ms/step - loss: 0.4099 - accuracy: 0.8211\n",
            "Epoch 17/100\n",
            "70/70 [==============================] - 0s 1ms/step - loss: 0.4018 - accuracy: 0.8234\n",
            "Epoch 18/100\n",
            "70/70 [==============================] - 0s 1ms/step - loss: 0.3935 - accuracy: 0.8283\n",
            "Epoch 19/100\n",
            "70/70 [==============================] - 0s 1ms/step - loss: 0.3839 - accuracy: 0.8337\n",
            "Epoch 20/100\n",
            "70/70 [==============================] - 0s 1ms/step - loss: 0.3739 - accuracy: 0.8382\n",
            "Epoch 21/100\n",
            "70/70 [==============================] - 0s 1ms/step - loss: 0.3634 - accuracy: 0.8427\n",
            "Epoch 22/100\n",
            "70/70 [==============================] - 0s 1ms/step - loss: 0.3508 - accuracy: 0.8440\n",
            "Epoch 23/100\n",
            "70/70 [==============================] - 0s 1ms/step - loss: 0.3390 - accuracy: 0.8494\n",
            "Epoch 24/100\n",
            "70/70 [==============================] - 0s 1ms/step - loss: 0.3244 - accuracy: 0.8530\n",
            "Epoch 25/100\n",
            "70/70 [==============================] - 0s 1ms/step - loss: 0.3079 - accuracy: 0.8593\n",
            "Epoch 26/100\n",
            "70/70 [==============================] - 1s 13ms/step - loss: 0.2887 - accuracy: 0.8701\n",
            "Epoch 27/100\n",
            "70/70 [==============================] - 0s 1ms/step - loss: 0.2627 - accuracy: 0.8809\n",
            "Epoch 28/100\n",
            "70/70 [==============================] - 0s 1ms/step - loss: 0.2356 - accuracy: 0.8962\n",
            "Epoch 29/100\n",
            "70/70 [==============================] - 0s 1ms/step - loss: 0.2102 - accuracy: 0.9119\n",
            "Epoch 30/100\n",
            "70/70 [==============================] - 0s 1ms/step - loss: 0.1886 - accuracy: 0.9240\n",
            "Epoch 31/100\n",
            "70/70 [==============================] - 0s 1ms/step - loss: 0.1714 - accuracy: 0.9321\n",
            "Epoch 32/100\n",
            "70/70 [==============================] - 0s 1ms/step - loss: 0.1599 - accuracy: 0.9357\n",
            "Epoch 33/100\n",
            "70/70 [==============================] - 0s 1ms/step - loss: 0.1513 - accuracy: 0.9416\n",
            "Epoch 34/100\n",
            "70/70 [==============================] - 0s 1ms/step - loss: 0.1437 - accuracy: 0.9425\n",
            "Epoch 35/100\n",
            "70/70 [==============================] - 0s 1ms/step - loss: 0.1391 - accuracy: 0.9447\n",
            "Epoch 36/100\n",
            "70/70 [==============================] - 0s 1ms/step - loss: 0.1332 - accuracy: 0.9465\n",
            "Epoch 37/100\n",
            "70/70 [==============================] - 0s 1ms/step - loss: 0.1298 - accuracy: 0.9483\n",
            "Epoch 38/100\n",
            "70/70 [==============================] - 0s 1ms/step - loss: 0.1271 - accuracy: 0.9492\n",
            "Epoch 39/100\n",
            "70/70 [==============================] - 0s 1ms/step - loss: 0.1261 - accuracy: 0.9519\n",
            "Epoch 40/100\n",
            "70/70 [==============================] - 0s 1ms/step - loss: 0.1218 - accuracy: 0.9528\n",
            "Epoch 41/100\n",
            "70/70 [==============================] - 0s 1ms/step - loss: 0.1208 - accuracy: 0.9528\n",
            "Epoch 42/100\n",
            "70/70 [==============================] - 0s 1ms/step - loss: 0.1194 - accuracy: 0.9501\n",
            "Epoch 43/100\n",
            "70/70 [==============================] - 0s 1ms/step - loss: 0.1202 - accuracy: 0.9515\n",
            "Epoch 44/100\n",
            "70/70 [==============================] - 0s 1ms/step - loss: 0.1177 - accuracy: 0.9528\n",
            "Epoch 45/100\n",
            "70/70 [==============================] - 1s 12ms/step - loss: 0.1167 - accuracy: 0.9542\n",
            "Epoch 46/100\n",
            "70/70 [==============================] - 0s 5ms/step - loss: 0.1164 - accuracy: 0.9546\n",
            "Epoch 47/100\n",
            "70/70 [==============================] - 0s 1ms/step - loss: 0.1137 - accuracy: 0.9515\n",
            "Epoch 48/100\n",
            "70/70 [==============================] - 0s 1ms/step - loss: 0.1131 - accuracy: 0.9546\n",
            "Epoch 49/100\n",
            "70/70 [==============================] - 0s 1ms/step - loss: 0.1114 - accuracy: 0.9533\n",
            "Epoch 50/100\n",
            "70/70 [==============================] - 0s 1ms/step - loss: 0.1104 - accuracy: 0.9533\n",
            "Epoch 51/100\n",
            "70/70 [==============================] - 0s 1ms/step - loss: 0.1118 - accuracy: 0.9537\n",
            "Epoch 52/100\n",
            "70/70 [==============================] - 0s 1ms/step - loss: 0.1126 - accuracy: 0.9515\n",
            "Epoch 53/100\n",
            "70/70 [==============================] - 0s 1ms/step - loss: 0.1084 - accuracy: 0.9569\n",
            "Epoch 54/100\n",
            "70/70 [==============================] - 0s 4ms/step - loss: 0.1078 - accuracy: 0.9560\n",
            "Epoch 55/100\n",
            "70/70 [==============================] - 0s 1ms/step - loss: 0.1091 - accuracy: 0.9533\n",
            "Epoch 56/100\n",
            "70/70 [==============================] - 0s 1ms/step - loss: 0.1092 - accuracy: 0.9555\n",
            "Epoch 57/100\n",
            "70/70 [==============================] - 0s 1ms/step - loss: 0.1077 - accuracy: 0.9555\n",
            "Epoch 58/100\n",
            "70/70 [==============================] - 0s 1ms/step - loss: 0.1055 - accuracy: 0.9555\n",
            "Epoch 59/100\n",
            "70/70 [==============================] - 0s 1ms/step - loss: 0.1063 - accuracy: 0.9564\n",
            "Epoch 60/100\n",
            "70/70 [==============================] - 0s 1ms/step - loss: 0.1055 - accuracy: 0.9600\n",
            "Epoch 61/100\n",
            "70/70 [==============================] - 0s 1ms/step - loss: 0.1056 - accuracy: 0.9569\n",
            "Epoch 62/100\n",
            "70/70 [==============================] - 0s 1ms/step - loss: 0.1042 - accuracy: 0.9591\n",
            "Epoch 63/100\n",
            "70/70 [==============================] - 0s 1ms/step - loss: 0.1051 - accuracy: 0.9582\n",
            "Epoch 64/100\n",
            "70/70 [==============================] - 0s 1ms/step - loss: 0.1035 - accuracy: 0.9587\n",
            "Epoch 65/100\n",
            "70/70 [==============================] - 1s 12ms/step - loss: 0.1043 - accuracy: 0.9578\n",
            "Epoch 66/100\n",
            "70/70 [==============================] - 0s 2ms/step - loss: 0.1014 - accuracy: 0.9578\n",
            "Epoch 67/100\n",
            "70/70 [==============================] - 0s 2ms/step - loss: 0.1029 - accuracy: 0.9582\n",
            "Epoch 68/100\n",
            "70/70 [==============================] - 0s 2ms/step - loss: 0.1012 - accuracy: 0.9587\n",
            "Epoch 69/100\n",
            "70/70 [==============================] - 0s 2ms/step - loss: 0.1014 - accuracy: 0.9587\n",
            "Epoch 70/100\n",
            "70/70 [==============================] - 0s 2ms/step - loss: 0.1023 - accuracy: 0.9591\n",
            "Epoch 71/100\n",
            "70/70 [==============================] - 0s 6ms/step - loss: 0.1014 - accuracy: 0.9609\n",
            "Epoch 72/100\n",
            "70/70 [==============================] - 0s 2ms/step - loss: 0.1026 - accuracy: 0.9591\n",
            "Epoch 73/100\n",
            "70/70 [==============================] - 0s 1ms/step - loss: 0.1003 - accuracy: 0.9604\n",
            "Epoch 74/100\n",
            "70/70 [==============================] - 0s 1ms/step - loss: 0.1012 - accuracy: 0.9582\n",
            "Epoch 75/100\n",
            "70/70 [==============================] - 0s 1ms/step - loss: 0.0998 - accuracy: 0.9600\n",
            "Epoch 76/100\n",
            "70/70 [==============================] - 0s 1ms/step - loss: 0.0981 - accuracy: 0.9587\n",
            "Epoch 77/100\n",
            "70/70 [==============================] - 0s 1ms/step - loss: 0.0977 - accuracy: 0.9609\n",
            "Epoch 78/100\n",
            "70/70 [==============================] - 0s 1ms/step - loss: 0.0989 - accuracy: 0.9596\n",
            "Epoch 79/100\n",
            "70/70 [==============================] - 0s 1ms/step - loss: 0.0973 - accuracy: 0.9622\n",
            "Epoch 80/100\n",
            "70/70 [==============================] - 0s 1ms/step - loss: 0.0957 - accuracy: 0.9631\n",
            "Epoch 81/100\n",
            "70/70 [==============================] - 1s 12ms/step - loss: 0.0956 - accuracy: 0.9604\n",
            "Epoch 82/100\n",
            "70/70 [==============================] - 0s 1ms/step - loss: 0.0960 - accuracy: 0.9618\n",
            "Epoch 83/100\n",
            "70/70 [==============================] - 0s 1ms/step - loss: 0.0965 - accuracy: 0.9587\n",
            "Epoch 84/100\n",
            "70/70 [==============================] - 0s 1ms/step - loss: 0.0949 - accuracy: 0.9613\n",
            "Epoch 85/100\n",
            "70/70 [==============================] - 0s 1ms/step - loss: 0.0932 - accuracy: 0.9640\n",
            "Epoch 86/100\n",
            "70/70 [==============================] - 0s 1ms/step - loss: 0.0965 - accuracy: 0.9613\n",
            "Epoch 87/100\n",
            "70/70 [==============================] - 0s 1ms/step - loss: 0.0942 - accuracy: 0.9636\n",
            "Epoch 88/100\n",
            "70/70 [==============================] - 0s 1ms/step - loss: 0.0948 - accuracy: 0.9618\n",
            "Epoch 89/100\n",
            "70/70 [==============================] - 0s 1ms/step - loss: 0.0931 - accuracy: 0.9618\n",
            "Epoch 90/100\n",
            "70/70 [==============================] - 0s 5ms/step - loss: 0.0951 - accuracy: 0.9609\n",
            "Epoch 91/100\n",
            "70/70 [==============================] - 0s 1ms/step - loss: 0.0930 - accuracy: 0.9649\n",
            "Epoch 92/100\n",
            "70/70 [==============================] - 1s 11ms/step - loss: 0.0923 - accuracy: 0.9627\n",
            "Epoch 93/100\n",
            "70/70 [==============================] - 0s 1ms/step - loss: 0.0922 - accuracy: 0.9654\n",
            "Epoch 94/100\n",
            "70/70 [==============================] - 0s 1ms/step - loss: 0.0921 - accuracy: 0.9627\n",
            "Epoch 95/100\n",
            "70/70 [==============================] - 0s 1ms/step - loss: 0.0929 - accuracy: 0.9596\n",
            "Epoch 96/100\n",
            "70/70 [==============================] - 0s 1ms/step - loss: 0.0917 - accuracy: 0.9636\n",
            "Epoch 97/100\n",
            "70/70 [==============================] - 0s 1ms/step - loss: 0.0928 - accuracy: 0.9627\n",
            "Epoch 98/100\n",
            "70/70 [==============================] - 0s 1ms/step - loss: 0.0908 - accuracy: 0.9631\n",
            "Epoch 99/100\n",
            "70/70 [==============================] - 0s 1ms/step - loss: 0.0914 - accuracy: 0.9622\n",
            "Epoch 100/100\n",
            "70/70 [==============================] - 0s 1ms/step - loss: 0.0904 - accuracy: 0.9649\n",
            "18/18 [==============================] - 1s 43ms/step\n"
          ]
        }
      ]
    },
    {
      "cell_type": "code",
      "source": [
        "from sklearn.metrics import multilabel_confusion_matrix,accuracy_score, confusion_matrix\n",
        "\n",
        "y_binary_pred = np.where(y_pred > 0.5, 1, 0)\n",
        "\n",
        "cm = confusion_matrix(y_test,y_binary_pred)\n",
        "acc = accuracy_score(y_test,y_binary_pred)\n"
      ],
      "metadata": {
        "id": "Wck3pDV5YY8u"
      },
      "execution_count": 12,
      "outputs": []
    },
    {
      "cell_type": "code",
      "source": [
        "print(cm)\n",
        "print('acc is:', acc)"
      ],
      "metadata": {
        "colab": {
          "base_uri": "https://localhost:8080/"
        },
        "id": "ZRuaS9ITL9vu",
        "outputId": "31bd861c-f52f-4b94-88af-6783e8977ddd"
      },
      "execution_count": 13,
      "outputs": [
        {
          "output_type": "stream",
          "name": "stdout",
          "text": [
            "[[235  13]\n",
            " [ 21 288]]\n",
            "acc is: 0.9389587073608617\n"
          ]
        }
      ]
    }
  ]
}